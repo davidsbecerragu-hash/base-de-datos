{
  "nbformat": 4,
  "nbformat_minor": 0,
  "metadata": {
    "colab": {
      "provenance": [],
      "authorship_tag": "ABX9TyPcgzqhiM3APo3RQimXNYdS",
      "include_colab_link": true
    },
    "kernelspec": {
      "name": "python3",
      "display_name": "Python 3"
    },
    "language_info": {
      "name": "python"
    }
  },
  "cells": [
    {
      "cell_type": "markdown",
      "metadata": {
        "id": "view-in-github",
        "colab_type": "text"
      },
      "source": [
        "<a href=\"https://colab.research.google.com/github/davidsbecerragu-hash/base-de-datos/blob/main/Red.ipynb\" target=\"_parent\"><img src=\"https://colab.research.google.com/assets/colab-badge.svg\" alt=\"Open In Colab\"/></a>"
      ]
    },
    {
      "cell_type": "code",
      "execution_count": 1,
      "metadata": {
        "colab": {
          "base_uri": "https://localhost:8080/",
          "height": 807
        },
        "id": "2auOJqOZL4ta",
        "outputId": "a97250ed-06ee-4575-90ab-ffc22d27c5d4"
      },
      "outputs": [
        {
          "output_type": "error",
          "ename": "Exception",
          "evalue": "No se pudo cargar el archivo: [Errno 2] No such file or directory: '/content/PROCESO FABRICACION ESCUDO.xlsx'",
          "traceback": [
            "\u001b[0;31m---------------------------------------------------------------------------\u001b[0m",
            "\u001b[0;31mFileNotFoundError\u001b[0m                         Traceback (most recent call last)",
            "\u001b[0;32m/tmp/ipython-input-46578246.py\u001b[0m in \u001b[0;36m<cell line: 0>\u001b[0;34m()\u001b[0m\n\u001b[1;32m     16\u001b[0m \u001b[0;32mtry\u001b[0m\u001b[0;34m:\u001b[0m\u001b[0;34m\u001b[0m\u001b[0;34m\u001b[0m\u001b[0m\n\u001b[0;32m---> 17\u001b[0;31m     \u001b[0mdf\u001b[0m \u001b[0;34m=\u001b[0m \u001b[0mpd\u001b[0m\u001b[0;34m.\u001b[0m\u001b[0mread_excel\u001b[0m\u001b[0;34m(\u001b[0m\u001b[0mruta_excel\u001b[0m\u001b[0;34m)\u001b[0m\u001b[0;34m\u001b[0m\u001b[0;34m\u001b[0m\u001b[0m\n\u001b[0m\u001b[1;32m     18\u001b[0m     \u001b[0mprint\u001b[0m\u001b[0;34m(\u001b[0m\u001b[0;34m\"Archivo cargado correctamente.\"\u001b[0m\u001b[0;34m)\u001b[0m\u001b[0;34m\u001b[0m\u001b[0;34m\u001b[0m\u001b[0m\n",
            "\u001b[0;32m/usr/local/lib/python3.12/dist-packages/pandas/io/excel/_base.py\u001b[0m in \u001b[0;36mread_excel\u001b[0;34m(io, sheet_name, header, names, index_col, usecols, dtype, engine, converters, true_values, false_values, skiprows, nrows, na_values, keep_default_na, na_filter, verbose, parse_dates, date_parser, date_format, thousands, decimal, comment, skipfooter, storage_options, dtype_backend, engine_kwargs)\u001b[0m\n\u001b[1;32m    494\u001b[0m         \u001b[0mshould_close\u001b[0m \u001b[0;34m=\u001b[0m \u001b[0;32mTrue\u001b[0m\u001b[0;34m\u001b[0m\u001b[0;34m\u001b[0m\u001b[0m\n\u001b[0;32m--> 495\u001b[0;31m         io = ExcelFile(\n\u001b[0m\u001b[1;32m    496\u001b[0m             \u001b[0mio\u001b[0m\u001b[0;34m,\u001b[0m\u001b[0;34m\u001b[0m\u001b[0;34m\u001b[0m\u001b[0m\n",
            "\u001b[0;32m/usr/local/lib/python3.12/dist-packages/pandas/io/excel/_base.py\u001b[0m in \u001b[0;36m__init__\u001b[0;34m(self, path_or_buffer, engine, storage_options, engine_kwargs)\u001b[0m\n\u001b[1;32m   1549\u001b[0m             \u001b[0;32melse\u001b[0m\u001b[0;34m:\u001b[0m\u001b[0;34m\u001b[0m\u001b[0;34m\u001b[0m\u001b[0m\n\u001b[0;32m-> 1550\u001b[0;31m                 ext = inspect_excel_format(\n\u001b[0m\u001b[1;32m   1551\u001b[0m                     \u001b[0mcontent_or_path\u001b[0m\u001b[0;34m=\u001b[0m\u001b[0mpath_or_buffer\u001b[0m\u001b[0;34m,\u001b[0m \u001b[0mstorage_options\u001b[0m\u001b[0;34m=\u001b[0m\u001b[0mstorage_options\u001b[0m\u001b[0;34m\u001b[0m\u001b[0;34m\u001b[0m\u001b[0m\n",
            "\u001b[0;32m/usr/local/lib/python3.12/dist-packages/pandas/io/excel/_base.py\u001b[0m in \u001b[0;36minspect_excel_format\u001b[0;34m(content_or_path, storage_options)\u001b[0m\n\u001b[1;32m   1401\u001b[0m \u001b[0;34m\u001b[0m\u001b[0m\n\u001b[0;32m-> 1402\u001b[0;31m     with get_handle(\n\u001b[0m\u001b[1;32m   1403\u001b[0m         \u001b[0mcontent_or_path\u001b[0m\u001b[0;34m,\u001b[0m \u001b[0;34m\"rb\"\u001b[0m\u001b[0;34m,\u001b[0m \u001b[0mstorage_options\u001b[0m\u001b[0;34m=\u001b[0m\u001b[0mstorage_options\u001b[0m\u001b[0;34m,\u001b[0m \u001b[0mis_text\u001b[0m\u001b[0;34m=\u001b[0m\u001b[0;32mFalse\u001b[0m\u001b[0;34m\u001b[0m\u001b[0;34m\u001b[0m\u001b[0m\n",
            "\u001b[0;32m/usr/local/lib/python3.12/dist-packages/pandas/io/common.py\u001b[0m in \u001b[0;36mget_handle\u001b[0;34m(path_or_buf, mode, encoding, compression, memory_map, is_text, errors, storage_options)\u001b[0m\n\u001b[1;32m    881\u001b[0m             \u001b[0;31m# Binary mode\u001b[0m\u001b[0;34m\u001b[0m\u001b[0;34m\u001b[0m\u001b[0m\n\u001b[0;32m--> 882\u001b[0;31m             \u001b[0mhandle\u001b[0m \u001b[0;34m=\u001b[0m \u001b[0mopen\u001b[0m\u001b[0;34m(\u001b[0m\u001b[0mhandle\u001b[0m\u001b[0;34m,\u001b[0m \u001b[0mioargs\u001b[0m\u001b[0;34m.\u001b[0m\u001b[0mmode\u001b[0m\u001b[0;34m)\u001b[0m\u001b[0;34m\u001b[0m\u001b[0;34m\u001b[0m\u001b[0m\n\u001b[0m\u001b[1;32m    883\u001b[0m         \u001b[0mhandles\u001b[0m\u001b[0;34m.\u001b[0m\u001b[0mappend\u001b[0m\u001b[0;34m(\u001b[0m\u001b[0mhandle\u001b[0m\u001b[0;34m)\u001b[0m\u001b[0;34m\u001b[0m\u001b[0;34m\u001b[0m\u001b[0m\n",
            "\u001b[0;31mFileNotFoundError\u001b[0m: [Errno 2] No such file or directory: '/content/PROCESO FABRICACION ESCUDO.xlsx'",
            "\nDuring handling of the above exception, another exception occurred:\n",
            "\u001b[0;31mException\u001b[0m                                 Traceback (most recent call last)",
            "\u001b[0;32m/tmp/ipython-input-46578246.py\u001b[0m in \u001b[0;36m<cell line: 0>\u001b[0;34m()\u001b[0m\n\u001b[1;32m     18\u001b[0m     \u001b[0mprint\u001b[0m\u001b[0;34m(\u001b[0m\u001b[0;34m\"Archivo cargado correctamente.\"\u001b[0m\u001b[0;34m)\u001b[0m\u001b[0;34m\u001b[0m\u001b[0;34m\u001b[0m\u001b[0m\n\u001b[1;32m     19\u001b[0m \u001b[0;32mexcept\u001b[0m \u001b[0mException\u001b[0m \u001b[0;32mas\u001b[0m \u001b[0me\u001b[0m\u001b[0;34m:\u001b[0m\u001b[0;34m\u001b[0m\u001b[0;34m\u001b[0m\u001b[0m\n\u001b[0;32m---> 20\u001b[0;31m     \u001b[0;32mraise\u001b[0m \u001b[0mException\u001b[0m\u001b[0;34m(\u001b[0m\u001b[0;34mf\"No se pudo cargar el archivo: {e}\"\u001b[0m\u001b[0;34m)\u001b[0m\u001b[0;34m\u001b[0m\u001b[0;34m\u001b[0m\u001b[0m\n\u001b[0m\u001b[1;32m     21\u001b[0m \u001b[0;34m\u001b[0m\u001b[0m\n\u001b[1;32m     22\u001b[0m \u001b[0;31m# Verificar columnas existentes\u001b[0m\u001b[0;34m\u001b[0m\u001b[0;34m\u001b[0m\u001b[0m\n",
            "\u001b[0;31mException\u001b[0m: No se pudo cargar el archivo: [Errno 2] No such file or directory: '/content/PROCESO FABRICACION ESCUDO.xlsx'"
          ]
        }
      ],
      "source": [
        "# ============================================\n",
        "# RED NEURONAL CONCEPTUAL TOTALMENTE CONECTADA\n",
        "# Autor: [Tu Nombre o Grupo]\n",
        "# Librerías: pandas, networkx, matplotlib\n",
        "# ============================================\n",
        "\n",
        "import pandas as pd\n",
        "import networkx as nx\n",
        "import matplotlib.pyplot as plt\n",
        "import random\n",
        "\n",
        "# Ruta del archivo Excel (modifica según tu ubicación)\n",
        "ruta_excel = \"/content/PROCESO FABRICACION ESCUDO.xlsx\"\n",
        "\n",
        "# Cargar el archivo Excel\n",
        "try:\n",
        "    df = pd.read_excel(ruta_excel)\n",
        "    print(\"Archivo cargado correctamente.\")\n",
        "except Exception as e:\n",
        "    raise Exception(f\"No se pudo cargar el archivo: {e}\")\n",
        "\n",
        "# Verificar columnas existentes\n",
        "columnas_posibles = [\"PROCESOS\", \"SUBPROCESOS\", \"PROCEDIMIENTO (PASO A PASO)\"]\n",
        "columnas_presentes = [col for col in columnas_posibles if col in df.columns]\n",
        "\n",
        "if not columnas_presentes:\n",
        "    raise ValueError(\"No se encontraron las columnas esperadas en el archivo Excel.\")\n",
        "\n",
        "print(f\"Columnas utilizadas: {columnas_presentes}\")\n",
        "\n",
        "# Extraer valores de las columnas y combinarlos en una lista de nodos únicos\n",
        "nodos = []\n",
        "for col in columnas_presentes:\n",
        "    valores = df[col].dropna().astype(str).tolist()\n",
        "    nodos.extend(valores)\n",
        "\n",
        "# Eliminar duplicados\n",
        "nodos = list(set(nodos))\n",
        "print(f\"Total de nodos encontrados: {len(nodos)}\")\n",
        "\n",
        "# Crear el grafo completamente conectado (fully connected)\n",
        "G = nx.Graph()\n",
        "\n",
        "# Añadir nodos\n",
        "for nodo in nodos:\n",
        "    G.add_node(nodo)\n",
        "\n",
        "# Añadir conexiones entre todos los nodos (red completamente conectada)\n",
        "for i in range(len(nodos)):\n",
        "    for j in range(i + 1, len(nodos)):\n",
        "        G.add_edge(nodos[i], nodos[j])\n",
        "\n",
        "# Asignar colores aleatorios a los nodos\n",
        "colores = [\"#\" + ''.join(random.choices('0123456789ABCDEF', k=6)) for _ in range(len(nodos))]\n",
        "\n",
        "# Posicionamiento de los nodos (spring layout)\n",
        "pos = nx.spring_layout(G, k=0.8, seed=42)\n",
        "\n",
        "# Dibujar la red\n",
        "plt.figure(figsize=(12, 10))\n",
        "nx.draw_networkx_nodes(G, pos, node_color=colores, node_size=800, alpha=0.9)\n",
        "nx.draw_networkx_edges(G, pos, alpha=0.3)\n",
        "nx.draw_networkx_labels(G, pos, font_size=8, font_family=\"sans-serif\")\n",
        "\n",
        "plt.title(\"RED NEURONAL CONCEPTUAL (TOTALMENTE CONECTADA)\", fontsize=14, fontweight='bold')\n",
        "plt.axis('off')\n",
        "plt.tight_layout()\n",
        "plt.show()\n",
        "\n",
        "# ============================================\n",
        "# FIN DEL CÓDIGO\n",
        "# ============================================\n"
      ]
    },
    {
      "cell_type": "code",
      "source": [
        "import pandas as pd\n",
        "import networkx as nx\n",
        "import matplotlib.pyplot as plt\n",
        "import random\n",
        "import os\n",
        "\n",
        "# Carga el archivo Excel\n",
        "file_path = '/content/P.xlsx'\n",
        "\n",
        "if os.path.exists(file_path):\n",
        "    df = pd.read_excel(file_path, skiprows=5)\n",
        "    df.columns = df.iloc[0]\n",
        "    df = df[1:].reset_index(drop=True)\n",
        "    df.rename(columns={'PROCESOS': 'PROCESOS_Column'}, inplace=True)\n",
        "    procesos = df['PROCESOS_Column'].dropna().tolist()\n",
        "\n",
        "    # Crea el grafo totalmente conectado\n",
        "    G = nx.Graph()\n",
        "    for proceso in procesos:\n",
        "        G.add_node(proceso)\n",
        "    for i in range(len(procesos)):\n",
        "        for j in range(i+1, len(procesos)):\n",
        "            G.add_edge(procesos[i], procesos[j])\n",
        "\n",
        "    # Colores aleatorios para los nodos\n",
        "    colors = []\n",
        "    for node in G.nodes():\n",
        "        colors.append([random.random() for _ in range(3)])\n",
        "\n",
        "    plt.figure(figsize=(10,6))\n",
        "    pos = nx.spring_layout(G, seed=42)\n",
        "    nx.draw(G, pos, with_labels=True, node_color=colors, node_size=800, font_size=8, edge_color='black')\n",
        "    plt.title('Red Neuronal Conceptual (Totalmente Conectada)')\n",
        "    plt.axis('off')\n",
        "    plt.show()\n",
        "else:\n",
        "    print(f\"Error: El archivo '{file_path}' no fue encontrado. Por favor, súbelo y ejecuta la celda nuevamente.\")"
      ],
      "metadata": {
        "colab": {
          "base_uri": "https://localhost:8080/"
        },
        "id": "7RClyrYkSpBN",
        "outputId": "6b9b08f3-8f8f-4e67-e30b-76dd98d9e7d7"
      },
      "execution_count": 2,
      "outputs": [
        {
          "output_type": "stream",
          "name": "stdout",
          "text": [
            "Error: El archivo '/content/PROCESO FABRICACION ESCUDO.xlsx' no fue encontrado. Por favor, súbelo y ejecuta la celda nuevamente.\n"
          ]
        }
      ]
    }
  ]
}